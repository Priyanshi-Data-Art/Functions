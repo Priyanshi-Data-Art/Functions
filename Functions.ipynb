{
 "cells": [
  {
   "cell_type": "code",
   "execution_count": 14,
   "id": "d3ca26de-df0c-4f40-9230-9ab5f5aed7a4",
   "metadata": {},
   "outputs": [
    {
     "data": {
      "text/plain": [
       "[308]"
      ]
     },
     "execution_count": 14,
     "metadata": {},
     "output_type": "execute_result"
    }
   ],
   "source": [
    "#1). Write a Python function that takes a list of numbers as input and returns the sum of all even numbers in the list.\n",
    "list1= [1,2,3,4,5,88,56,34,24,33,55,59,100]\n",
    "def sum_even(list1):\n",
    "    l=[]\n",
    "    s=0\n",
    "    for i in list1:\n",
    "        if type(i) == int and i%2==0:\n",
    "            s=s+i\n",
    "    l.append(s)\n",
    "    return l\n",
    "sum_even(list1)           "
   ]
  },
  {
   "cell_type": "code",
   "execution_count": 15,
   "id": "d8b1f5ef-10f1-4e04-90e1-93be123eb371",
   "metadata": {},
   "outputs": [
    {
     "data": {
      "text/plain": [
       "'cba'"
      ]
     },
     "execution_count": 15,
     "metadata": {},
     "output_type": "execute_result"
    }
   ],
   "source": [
    "#2). Create a Python function that accepts a string and returns the reverse of that string.\n",
    "def reverse_string(s):\n",
    "    if type(s) == str:\n",
    "        return s[::-1]\n",
    "    else:\n",
    "        print(\"Please enter string only\")\n",
    "reverse_string(\"abc\")"
   ]
  },
  {
   "cell_type": "code",
   "execution_count": 16,
   "id": "1ae50ee1-9cb9-4c61-8ee4-77efa3ba04cc",
   "metadata": {},
   "outputs": [
    {
     "data": {
      "text/plain": [
       "[1, 4, 9, 16, 25, 7744, 3136, 1156, 576, 1089, 3025, 3481, 10000]"
      ]
     },
     "execution_count": 16,
     "metadata": {},
     "output_type": "execute_result"
    }
   ],
   "source": [
    "#3.) Implement a Python function that takes a list of integers and returns a new list containing the squares of each number.\n",
    "def sqr_list(list1):\n",
    "    l=[]\n",
    "    for i in list1:\n",
    "        sqr=i*i\n",
    "        l.append(sqr)\n",
    "    return l\n",
    "sqr_list(list1)"
   ]
  },
  {
   "cell_type": "code",
   "execution_count": 17,
   "id": "500ab16a-19b3-47ee-87c3-b77482e6a3af",
   "metadata": {},
   "outputs": [
    {
     "name": "stdout",
     "output_type": "stream",
     "text": [
      "29 is a prime number\n"
     ]
    }
   ],
   "source": [
    "#4). Write a Python function that checks if a given number is prime or not from 1 to 200.\n",
    "def find_prime(a):\n",
    "    if a<2:\n",
    "        print(f\"{a} is not prime number\")\n",
    "    else:\n",
    "        for i in range(2,a):\n",
    "            if a % i == 0:\n",
    "                print(f\"{a} is not prime number\")\n",
    "        else:\n",
    "            print(f\"{a} is a prime number\")\n",
    "            \n",
    "find_prime(29)"
   ]
  },
  {
   "cell_type": "code",
   "execution_count": 18,
   "id": "471c618a-b82d-4b9b-8b1e-cdc49743df0a",
   "metadata": {},
   "outputs": [
    {
     "name": "stdout",
     "output_type": "stream",
     "text": [
      "0\n",
      "1\n",
      "1\n",
      "2\n",
      "3\n",
      "5\n",
      "8\n",
      "13\n",
      "21\n",
      "34\n"
     ]
    }
   ],
   "source": [
    "#5).Create an iterator class in Python that generates the Fibonacci sequence up to a specified number of terms.\n",
    "class FibonacciIterator:\n",
    "    def __init__(self, num_terms):\n",
    "        self.num_terms = num_terms\n",
    "        self.current = 0\n",
    "        self.a, self.b = 0, 1\n",
    "    \n",
    "    def __iter__(self):\n",
    "        # The iterator itself is also an iterable\n",
    "        return self\n",
    "    \n",
    "    def __next__(self):\n",
    "        if self.current < self.num_terms:\n",
    "            # The Fibonacci sequence generation\n",
    "            value = self.a\n",
    "            self.a, self.b = self.b, self.a + self.b\n",
    "            self.current += 1\n",
    "            return value\n",
    "        else:\n",
    "            # StopIteration exception indicates the end of iteration\n",
    "            raise StopIteration\n",
    "\n",
    "# Example usage:\n",
    "fib = FibonacciIterator(10)  # Create an iterator for the first 10 Fibonacci numbers\n",
    "\n",
    "for number in fib:\n",
    "    print(number)\n"
   ]
  },
  {
   "cell_type": "code",
   "execution_count": 19,
   "id": "e90c4e29-63f8-46f3-8e77-f0dd829d97b5",
   "metadata": {},
   "outputs": [
    {
     "name": "stdout",
     "output_type": "stream",
     "text": [
      "1\n",
      "2\n",
      "4\n",
      "8\n",
      "16\n",
      "32\n"
     ]
    }
   ],
   "source": [
    "#Write a generator function in Python that yields the powers of 2 up to a given exponent.\n",
    "\n",
    "def powers_of_two(exponent):\n",
    "    for i in range(exponent + 1):\n",
    "        yield 2 ** i\n",
    "\n",
    "# Example usage:\n",
    "for power in powers_of_two(5):\n",
    "    print(power)\n"
   ]
  },
  {
   "cell_type": "code",
   "execution_count": 34,
   "id": "83488bb4-b910-4ac1-8c5e-a2352e8d5ebf",
   "metadata": {},
   "outputs": [
    {
     "name": "stdout",
     "output_type": "stream",
     "text": [
      "[('ajay', 'akil', 'akhashay'), ('priya', 'cattty', 'sam'), ('arun', 'raj', 'virendra')]\n"
     ]
    }
   ],
   "source": [
    "#Use a lambda function in Python to sort a list of tuples based on the second element of each tuple.\n",
    "t=[(\"ajay\",\"akil\",\"akhashay\"),(\"arun\",\"raj\",\"virendra\"),(\"priya\",\"cattty\",\"sam\")]\n",
    "sort=sorted(t,key=lambda x: x[1])\n",
    "print(sort)"
   ]
  },
  {
   "cell_type": "code",
   "execution_count": 38,
   "id": "bb8f262d-c736-4a73-9499-b290228785e7",
   "metadata": {},
   "outputs": [
    {
     "name": "stdout",
     "output_type": "stream",
     "text": [
      "List of fahrenheit : [206.6, 208.4, 212.0, 195.8, 201.2]\n"
     ]
    }
   ],
   "source": [
    "#Write a Python program that uses `map()` to convert a list of temperatures from Celsius to Fahrenheit.\n",
    "list_of_cel=[97,98,100,91,94]\n",
    "print(f\"List of fahrenheit : {list(map(lambda x:(x * 9/5) + 32,list_of_cel))}\")"
   ]
  },
  {
   "cell_type": "code",
   "execution_count": null,
   "id": "f6f4898f-32fd-4adb-8fe2-713453b71718",
   "metadata": {},
   "outputs": [],
   "source": [
    "# Create a Python program that uses `filter()` to remove all the vowels from a given string.\n",
    "s=\"Hey, there is vowels available in the string\"\n",
    "vowels=['a','e','i','o','u']\n",
    "result=''.join(filter(lambda x : x.lower() not in vowels ,s))\n",
    "print(result)"
   ]
  },
  {
   "cell_type": "code",
   "execution_count": 12,
   "id": "8b97f5b1-a1d6-4765-b9b7-9786118247d0",
   "metadata": {},
   "outputs": [
    {
     "data": {
      "text/plain": [
       "[(34587, 173.8), (98762, 294.0), (77226, 108.85000000000001), (88112, 84.97)]"
      ]
     },
     "execution_count": 12,
     "metadata": {},
     "output_type": "execute_result"
    }
   ],
   "source": [
    "'''Imagine an accounting routine used in a book shop. It works on a list with sublists, which look like this:\n",
    "\n",
    "Order No.\t            Book Title\t                         Quantity\tPrice per Item\n",
    "34587\t                Learn Python\t                         2\t       119.00\n",
    "88998\t                Code\t                                 7\t       373.00\n",
    "35648\t                Improve Python\t                         8\t       738.00\n",
    "29863\t                Python Functions\t                     9\t       287.00\n",
    "\n",
    "Write a Python program, which returns a list with 2-tuples. Each tuple consists of the order number and the\n",
    "product of the price per item and the quantity. The product should be increased by 10,- € if the value of the\n",
    "order is smaller than 100,00 €.\n",
    "\n",
    "Write a Python program using lambda and map.'''\n",
    "\n",
    "l=[[34587,'Learn Python, Marks Lutz',4,40.95],\n",
    "   [98762,'Programming Python, Marks Lutz',5,56.80],\n",
    "   [77226,'Head first Python,Paul Barry',3,32.95],\n",
    "   [88112,'Einfuhrang in Python3, Bernd Klien',3,24.99]]\n",
    "\n",
    "\n",
    "result=list(map(lambda x:(x[0],x[2]*x[3] if x[2] * x[3] > 10000 else x[2]*x[3]+ 10), l))\n",
    "\n",
    "result"
   ]
  },
  {
   "cell_type": "code",
   "execution_count": null,
   "id": "1cfe843a-857c-4316-b93c-8e0caaef20ab",
   "metadata": {},
   "outputs": [],
   "source": []
  },
  {
   "cell_type": "code",
   "execution_count": null,
   "id": "805575ec-d336-445e-85d8-49e1d740acba",
   "metadata": {},
   "outputs": [],
   "source": []
  },
  {
   "cell_type": "code",
   "execution_count": null,
   "id": "18aadd96-3d9f-4042-b5bd-25de3f7f2222",
   "metadata": {},
   "outputs": [],
   "source": []
  }
 ],
 "metadata": {
  "kernelspec": {
   "display_name": "Python 3 (ipykernel)",
   "language": "python",
   "name": "python3"
  },
  "language_info": {
   "codemirror_mode": {
    "name": "ipython",
    "version": 3
   },
   "file_extension": ".py",
   "mimetype": "text/x-python",
   "name": "python",
   "nbconvert_exporter": "python",
   "pygments_lexer": "ipython3",
   "version": "3.10.8"
  }
 },
 "nbformat": 4,
 "nbformat_minor": 5
}
